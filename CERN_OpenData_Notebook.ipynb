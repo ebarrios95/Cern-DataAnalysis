{
 "cells": [
  {
   "cell_type": "code",
   "execution_count": 2,
   "metadata": {},
   "outputs": [],
   "source": [
    "import numpy as np\n",
    "import pandas as pd\n",
    "import statistics as st\n",
    "import scipy.stats as stats\n",
    "from scipy.stats import norm,chisquare\n",
    "import matplotlib.pyplot as plt\n",
    "from scipy.optimize import curve_fit\n",
    "from sklearn.utils import shuffle\n",
    "import random\n",
    "import collections"
   ]
  },
  {
   "cell_type": "code",
   "execution_count": 4,
   "metadata": {},
   "outputs": [],
   "source": [
    "Data = pd.read_csv(\"cern_datasets_z_ee_mass.csv\")\n",
    "df = pd.DataFrame(Data)\n",
    "ZM = np.array(Data)\n",
    "ZM = ZM[:,0]\n",
    "#with pd.option_context('display.max_rows', -1, 'display.max_columns', 5):\n",
    "#    print(df)"
   ]
  },
  {
   "cell_type": "code",
   "execution_count": 19,
   "metadata": {},
   "outputs": [
    {
     "data": {
      "text/html": [
       "<div>\n",
       "<style scoped>\n",
       "    .dataframe tbody tr th:only-of-type {\n",
       "        vertical-align: middle;\n",
       "    }\n",
       "\n",
       "    .dataframe tbody tr th {\n",
       "        vertical-align: top;\n",
       "    }\n",
       "\n",
       "    .dataframe thead th {\n",
       "        text-align: right;\n",
       "    }\n",
       "</style>\n",
       "<table border=\"1\" class=\"dataframe\">\n",
       "  <thead>\n",
       "    <tr style=\"text-align: right;\">\n",
       "      <th></th>\n",
       "      <th>Z_mass(GeV)</th>\n",
       "    </tr>\n",
       "  </thead>\n",
       "  <tbody>\n",
       "    <tr>\n",
       "      <th>0</th>\n",
       "      <td>89.120279</td>\n",
       "    </tr>\n",
       "    <tr>\n",
       "      <th>1</th>\n",
       "      <td>88.596531</td>\n",
       "    </tr>\n",
       "    <tr>\n",
       "      <th>2</th>\n",
       "      <td>86.301632</td>\n",
       "    </tr>\n",
       "    <tr>\n",
       "      <th>3</th>\n",
       "      <td>84.503178</td>\n",
       "    </tr>\n",
       "    <tr>\n",
       "      <th>4</th>\n",
       "      <td>95.679594</td>\n",
       "    </tr>\n",
       "  </tbody>\n",
       "</table>\n",
       "</div>"
      ],
      "text/plain": [
       "   Z_mass(GeV)\n",
       "0    89.120279\n",
       "1    88.596531\n",
       "2    86.301632\n",
       "3    84.503178\n",
       "4    95.679594"
      ]
     },
     "execution_count": 19,
     "metadata": {},
     "output_type": "execute_result"
    }
   ],
   "source": [
    "df.head()"
   ]
  },
  {
   "cell_type": "markdown",
   "metadata": {},
   "source": [
    "###### Splitting the data into two arrays:"
   ]
  },
  {
   "cell_type": "code",
   "execution_count": 11,
   "metadata": {},
   "outputs": [
    {
     "name": "stdout",
     "output_type": "stream",
     "text": [
      "The len of data for greater than 90 GeV is 181, while max value \n",
      " is 176\n",
      "The len of data for greater than 90 GeV is 482, while max value \n",
      " is 89\n"
     ]
    }
   ],
   "source": [
    "data1 = []\n",
    "data2 = []\n",
    "for i in range(len(Data)):\n",
    "    if Data['Z_mass(GeV)'][i] > 90:\n",
    "        data1.append(Data['Z_mass(GeV)'][i])\n",
    "    elif Data['Z_mass(GeV)'][i] <= 90:\n",
    "        data2.append(Data['Z_mass(GeV)'][i])\n",
    "print(\"The len of data for greater than 90 GeV is %d, while\\\n",
    " max value \\n is %d\" %(len(data1),max(data1)))\n",
    "print(\"The len of data for greater than 90 GeV is %d, while\\\n",
    " max value \\n is %d\" %(len(data2),max(data2)))"
   ]
  },
  {
   "cell_type": "code",
   "execution_count": 6,
   "metadata": {},
   "outputs": [
    {
     "data": {
      "text/html": [
       "<div>\n",
       "<style scoped>\n",
       "    .dataframe tbody tr th:only-of-type {\n",
       "        vertical-align: middle;\n",
       "    }\n",
       "\n",
       "    .dataframe tbody tr th {\n",
       "        vertical-align: top;\n",
       "    }\n",
       "\n",
       "    .dataframe thead th {\n",
       "        text-align: right;\n",
       "    }\n",
       "</style>\n",
       "<table border=\"1\" class=\"dataframe\">\n",
       "  <thead>\n",
       "    <tr style=\"text-align: right;\">\n",
       "      <th></th>\n",
       "      <th>Standard Deviation</th>\n",
       "      <th>Mean</th>\n",
       "      <th>Variance</th>\n",
       "      <th>Median</th>\n",
       "      <th>Skew</th>\n",
       "      <th>Events</th>\n",
       "    </tr>\n",
       "  </thead>\n",
       "  <tbody>\n",
       "    <tr>\n",
       "      <th>Z-ee Mass</th>\n",
       "      <td>27.140589</td>\n",
       "      <td>74.674579</td>\n",
       "      <td>736.611577</td>\n",
       "      <td>86.774291</td>\n",
       "      <td>-1.254704</td>\n",
       "      <td>663</td>\n",
       "    </tr>\n",
       "  </tbody>\n",
       "</table>\n",
       "</div>"
      ],
      "text/plain": [
       "           Standard Deviation       Mean    Variance     Median      Skew  \\\n",
       "Z-ee Mass           27.140589  74.674579  736.611577  86.774291 -1.254704   \n",
       "\n",
       "           Events  \n",
       "Z-ee Mass     663  "
      ]
     },
     "execution_count": 6,
     "metadata": {},
     "output_type": "execute_result"
    }
   ],
   "source": [
    "def descriptiveSTATS(Data):\n",
    "    #will find the descriptive statistics of the data inputted into this function\n",
    "    deviation = st.stdev(Data)\n",
    "    Mean = np.mean(Data)\n",
    "    variance = st.variance(Data)\n",
    "    median = st.median(Data)\n",
    "    skew = stats.skew(Data)\n",
    "    events = len(Data)\n",
    "    return([deviation,Mean,variance,median,skew,events])\n",
    "\n",
    "def descriptiveSTATSpandaframe(Data,index):\n",
    "    #Enter your descriptions of the type of resistor/ name of the variables one is performing descriptive statistics\n",
    "    #for\n",
    "    InitializeFrame = {'Standard Deviation':Data[0],\n",
    "                      'Mean':Data[1],\n",
    "                      'Variance':Data[2],\n",
    "                      'Median':Data[3],\n",
    "                      'Skew':Data[4],\n",
    "                      'Events':Data[5]}\n",
    "    Frame = pd.DataFrame(InitializeFrame,index)\n",
    "    return(Frame)\n",
    "desc = descriptiveSTATS(ZM)\n",
    "descf = descriptiveSTATSpandaframe(desc, ['Z-ee Mass'])\n",
    "descf"
   ]
  },
  {
   "cell_type": "markdown",
   "metadata": {},
   "source": [
    "0) From this data I have learned that the data is averaging a mass of 74.67 with a standard deviation 27.14. Suggesting that the gaussian distribution of this data, will not be precise. Also notice that the skew of the data is skewed to the left, suggesting that there is a greater weight from the left hand side of a guassian distribution. "
   ]
  },
  {
   "cell_type": "markdown",
   "metadata": {},
   "source": [
    "# Frequency Plot\n",
    "We can determine the width of the bins, such that the uncertainty will be below 10$\\%$. In this case, the uncertainty is 9$\\%$. We can find the uncertainty by the following method: \n",
    "\\begin{equation} \n",
    "fractionalUncertainty = \\frac{\\delta x}{x_{best}}\n",
    "\\end{equation}\n",
    "Where $\\delta x$ (or absolute uncertainty) = 4.413 for this case. Which is calculated by taking the actual value - measured value. "
   ]
  },
  {
   "cell_type": "code",
   "execution_count": 12,
   "metadata": {},
   "outputs": [
    {
     "data": {
      "image/png": "[encoded data removed]",
      "text/plain": [
       "<Figure size 432x288 with 1 Axes>"
      ]
     },
     "metadata": {
      "needs_background": "light"
     },
     "output_type": "display_data"
    }
   ],
   "source": [
    "binwidth_stats = np.histogram_bin_edges(ZM, bins = 'fd') #note the binwidth is the uncertainty = 4.4 between eachvalue\n",
    "\n",
    "freq, edges = np.histogram(ZM, bins = binwidth_stats)\n",
    "freq = freq[:28]\n",
    "\n",
    "arb = []\n",
    "for l, r in zip(edges[:-1], edges[1:]):\n",
    "    arb.append((ZM[(ZM > l) & (ZM < r)]))\n",
    "val = []\n",
    "for i in range(len(arb)):\n",
    "    if len(arb[i])!=0:\n",
    "        val.append(sum(arb[i])/len(arb[i]))\n",
    "    else: \n",
    "        val.append(0)\n",
    "val = np.array(val)\n",
    "val = val[:28]\n",
    "\n",
    "\n",
    "plt.hist(ZM, bins = binwidth_stats)\n",
    "plt.title(\"Frequency Plot\",fontsize = 16)\n",
    "plt.xlabel('Z Mass',fontsize = 14)\n",
    "plt.ylabel('Frequency',fontsize = 14)\n",
    "plt.show()"
   ]
  },
  {
   "cell_type": "markdown",
   "metadata": {},
   "source": [
    "### Gaussian\n",
    "Now, it is obvious that the data set follows a normal distribution, and by the central limit theorem. It states that the population with mean $\\mu$ and standard deviation $\\sigma$, then the distribution of the sample means will be approximately normally distributed. \n",
    "\n",
    "The two important fit parameters that we need to consider is the mean and the standard deviation, such that these two parameters will determine the confidence level of our data and also the precision. \n",
    "\n",
    "Overlaying the gaussian curve we will use a non-linear fit least squares fit to an effective range. From this fit we will extract the mean and the standard deviation from its parameters. The yield of the plot is as follows: "
   ]
  },
  {
   "cell_type": "markdown",
   "metadata": {},
   "source": [
    "#### Applying a non-linear fit squares fit to an effective range \n",
    "The parameters yielded of the gaussian distribution are as follows: \n",
    "$\\mu$ = 88.83 \n",
    "$\\sigma$ = 3.43"
   ]
  },
  {
   "cell_type": "code",
   "execution_count": 14,
   "metadata": {},
   "outputs": [],
   "source": [
    "def gaussian_fit(x,y):\n",
    "    y = y[11:]\n",
    "    x = x[11:]\n",
    "    mu, std = norm.fit(y)\n",
    "    def gauss_function(x, a, x0, sigma):\n",
    "        return(a*np.exp(-(x-x0)**2/(2*sigma**2)))\n",
    "    params, pcov = curve_fit(gauss_function, x,y, p0 = [1, mu, std])\n",
    "\n",
    "    CHI, pvalue = chisquare(y, gauss_function(x,*params),3)\n",
    "    #print(\"Chisquare = %.3f\"%(CHI))\n",
    "\n",
    "    gaussfit = gauss_function(x,*params)\n",
    "    return(gaussfit,params)\n",
    "y, params = gaussian_fit(val,freq)"
   ]
  },
  {
   "cell_type": "markdown",
   "metadata": {},
   "source": [
    "#### Overlaying the histogram with a normal distribution of the data\n",
    "The parameters are given from the gaussian fit.<br> \n",
    "The orange curve is the normal distributed curve using the paramters of the curve_fit. We can see that the normally distributed curve, does not have a sharp and an abnormal spike at the top of the curve. This is the case, because there aren't enough data points in between the frequency points to have a smooth curve, thus causing the spike in the curve fit. "
   ]
  },
  {
   "cell_type": "code",
   "execution_count": 15,
   "metadata": {},
   "outputs": [
    {
     "data": {
      "image/png": "[encoded data removed]",
      "text/plain": [
       "<Figure size 648x432 with 1 Axes>"
      ]
     },
     "metadata": {
      "needs_background": "light"
     },
     "output_type": "display_data"
    }
   ],
   "source": [
    "Z = sorted(ZM)\n",
    "Zm = Z[135:]\n",
    "VAL = val[11:]\n",
    "FREQ = freq[11:]\n",
    "plt.figure(figsize = (9,6))\n",
    "\n",
    "plt.hist(Zm, bins=binwidth_stats,alpha=0.6, color='g')\n",
    "plt.plot(VAL,y, '--r', linewidth = 2)\n",
    "\n",
    "mu = params[1]\n",
    "sigma = params[2]\n",
    "x = np.linspace(mu - 3*sigma, mu + 3*sigma, 1000)\n",
    "p = stats.norm.pdf(x, mu, sigma)*params[0]*8\n",
    "plt.plot(x, p, '-', color = 'black')\n",
    "title = \"Fit results: mu = %.2f,  std = %.2f\" % (params[1], params[2])\n",
    "plt.title(title,fontsize = 15)\n",
    "plt.xlabel('Z Mass',fontsize = 14)\n",
    "plt.ylabel('Frequency',fontsize = 14)\n",
    "plt.legend([\"Gaussian Fit\",'Norm Fit','Frequency'])\n",
    "plt.show()"
   ]
  },
  {
   "cell_type": "markdown",
   "metadata": {},
   "source": [
    "### Dealing with background:\n",
    "Note: I will try to another non-linear least squares fit. \"The Lorentzian Peak on Quadratic Background\"\n",
    "\\begin{equation}\n",
    "y(E) = a_1 + a_2 +a_3E^2 + A_o\\frac{\\Gamma_o/(2\\pi)}{(E-E_o)^2 +(\\Gamma_0/2)^2} \n",
    "\\end{equation}  "
   ]
  },
  {
   "cell_type": "code",
   "execution_count": 18,
   "metadata": {},
   "outputs": [
    {
     "name": "stdout",
     "output_type": "stream",
     "text": [
      "[ 1.24641911e-01  5.36300267e-02 -5.32282725e-04  2.36169792e+02\n",
      "  8.91008170e+01  6.73364407e+00]\n",
      "Chi-square =  251.24797362037813\n",
      "Probability = 1.00000\n"
     ]
    },
    {
     "data": {
      "image/png": "[encoded data removed]",
      "text/plain": [
       "<Figure size 432x288 with 1 Axes>"
      ]
     },
     "metadata": {
      "needs_background": "light"
     },
     "output_type": "display_data"
    }
   ],
   "source": [
    "freq2, edges2 = np.histogram(ZM, bins = 400)\n",
    "arb2 = []\n",
    "for l, r in zip(edges2[:-1], edges2[1:]):\n",
    "    arb2.append((ZM[(ZM > l) & (ZM < r)]))\n",
    "val2 = []\n",
    "for i in range(len(arb2)):\n",
    "    if len(arb2[i])!=0:\n",
    "        val2.append(sum(arb2[i])/len(arb2[i]))\n",
    "    else: \n",
    "        val2.append(0)\n",
    "val2 = np.array(val2)\n",
    "VAL2 = val2[150:]\n",
    "FREQ2 = freq2[150:]\n",
    "\n",
    "def Lorentzian_fit(x,y): \n",
    "    def func(E,a1,a2,a3,a4,a5,a6):\n",
    "        numerator = a6/(2*np.pi)\n",
    "        denom = (E - a5)**2 + (a6/2)**2\n",
    "        return(a1 + a2*E + a3*E**2 + a4*(numerator/denom))\n",
    "    \n",
    "    params1,pcov1 = curve_fit(func,  x,  y, p0 = (1 ,1 ,1 ,1 ,90 , 1))\n",
    "\n",
    "    \n",
    "    fit1 = func(x,*params1)\n",
    "\n",
    "    print(params1)\n",
    "    #Find the pearson correlation: R^2 \n",
    "    \n",
    "    #Finding chi-square and the probability \n",
    "    CHI, pvalue = chisquare(y,fit1,6)\n",
    "    \n",
    "    print(\"Chi-square = \", CHI)\n",
    "    print('Probability = %.5f' %(pvalue))\n",
    "\n",
    "    plt.plot(x,y,'ko')\n",
    "    plt.plot(x,fit1,'ro')\n",
    "    plt.title('Fitting equation 9.1', fontsize = 16)\n",
    "    plt.xlabel(\"Energy(GeV)\", fontsize = 14)\n",
    "    plt.ylabel('Y', fontsize =14)\n",
    "    plt.legend(['Original Data', 'Lorentzian Fit'])\n",
    "    plt.show()\n",
    "    return\n",
    "Lorentzian_fit(val2,freq2)"
   ]
  },
  {
   "cell_type": "markdown",
   "metadata": {},
   "source": [
    "From the lorentzian fit, we see that the $\\mu$ = 89.03GeV and $\\sigma$=7.09.<br>\n",
    "We see that the parameters are only slighly altered by comparing only the values that have correlation, the mean is not altered much, but the standard deviation is altered.<br>\n",
    "Notice, that the standard Deviation increases, we should expect a higher standard deviation, in that we are removing information from our data. Hence the standard deviation will increase, due to the difference between the values will increase. <br>\n",
    "The Chi-squared value improves, relativiely, due to the fact that in the region of interest the data is improving in predicting the observed value to the expected. Thus, chi-squared will reduce. "
   ]
  },
  {
   "cell_type": "markdown",
   "metadata": {},
   "source": [
    "#### invariant mass of the Z from the dilepton decay = 89.03 $\\pm$ 7.03 GeV\n",
    "The expected value of the Z-mass is 91.1876 $\\pm$ .0021 GeV.<br>\n",
    "\n",
    "The error percentage between Z-mass expected and calcuated is 2.4$\\%$. Though, our error margins are within the expected value, such that we are encompassing the correct answer. However, we can improve our measured value, by having more data to improve the peak. Or we can increase the number of bins in the histogram plot, such that the peak will sit in a bin of approximately a size of $\\delta x$. "
   ]
  },
  {
   "cell_type": "markdown",
   "metadata": {},
   "source": [
    "### 200 random events\n",
    "In taking 200 random events, there is not enough information to fi the data to a nice peak of about 89GeV because the frequency events increase for the events away from the average compared to the above events."
   ]
  },
  {
   "cell_type": "code",
   "execution_count": 8,
   "metadata": {},
   "outputs": [],
   "source": [
    "Z11 = random.choices(ZM, k=200)\n",
    "Z11 = np.array(Z11)"
   ]
  },
  {
   "cell_type": "code",
   "execution_count": 26,
   "metadata": {},
   "outputs": [
    {
     "name": "stdout",
     "output_type": "stream",
     "text": [
      "[-1.38625561e-01  4.35164504e-02  1.39318487e-03 -1.34403456e+04\n",
      "  6.66888148e+03 -1.28586066e+04]\n",
      "Chi-square =  244.87573848618456\n",
      "Probability = 0.00000\n"
     ]
    },
    {
     "data": {
      "image/png": "[encoded data removed]",
      "text/plain": [
       "<Figure size 432x288 with 1 Axes>"
      ]
     },
     "metadata": {
      "needs_background": "light"
     },
     "output_type": "display_data"
    },
    {
     "data": {
      "text/plain": [
       "Text(0.5, 1.0, 'Frequency Plot of Rand 200 Events')"
      ]
     },
     "execution_count": 26,
     "metadata": {},
     "output_type": "execute_result"
    },
    {
     "data": {
      "image/png": "[encoded data removed]",
      "text/plain": [
       "<Figure size 432x288 with 1 Axes>"
      ]
     },
     "metadata": {
      "needs_background": "light"
     },
     "output_type": "display_data"
    }
   ],
   "source": [
    "binwidth_stats11 = np.histogram_bin_edges(Z11, bins = 'fd')\n",
    "\n",
    "freq11, edges11 = np.histogram(Z11, bins = binwidth_stats11)\n",
    "freq11 = freq11[:28]\n",
    "\n",
    "arb11 = []\n",
    "for l, r in zip(edges11[:-1], edges11[1:]):\n",
    "    arb11.append((Z11[(Z11 > l) & (Z11 < r)]))\n",
    "val11 = []\n",
    "for i in range(len(arb11)):\n",
    "    if len(arb11[i])!=0:\n",
    "        val11.append(sum(arb11[i])/len(arb11[i]))\n",
    "    else: \n",
    "        val11.append(0)\n",
    "val11 = np.array(val11)\n",
    "val11 = val11[:28]\n",
    "Lorentzian_fit(val11,freq11)\n",
    "y2, params2 = gaussian_fit(val,freq)\n",
    "plt.hist(freq11[11:],bins = binwidth_stats11 )\n",
    "plt.plot(freq11[11:],y2)\n",
    "plt.ylabel('Frequency(Rand 200 events)',fontsize = 14)\n",
    "plt.xlabel('Z-ee mass ',fontsize = 14)\n",
    "plt.title(\"Frequency Plot of Rand 200 Events\", fontsize = 15)"
   ]
  }
 ],
 "metadata": {
  "kernelspec": {
   "display_name": "Python 3",
   "language": "python",
   "name": "python3"
  },
  "language_info": {
   "codemirror_mode": {
    "name": "ipython",
    "version": 3
   },
   "file_extension": ".py",
   "mimetype": "text/x-python",
   "name": "python",
   "nbconvert_exporter": "python",
   "pygments_lexer": "ipython3",
   "version": "3.7.9"
  }
 },
 "nbformat": 4,
 "nbformat_minor": 2
}
